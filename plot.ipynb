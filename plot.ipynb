{
 "cells": [
  {
   "cell_type": "code",
   "execution_count": 1,
   "metadata": {},
   "outputs": [],
   "source": [
    "%matplotlib inline\n",
    "\n",
    "import matplotlib\n",
    "import numpy as np\n",
    "import matplotlib.pyplot as plt\n",
    "\n",
    "plt.rcParams['figure.figsize'] = (12, 8)\n",
    "\n",
    "#Load text file \n",
    "\n",
    "def load_log(file):\n",
    "    results = []\n",
    "    with open(file) as f:\n",
    "        for line in f:\n",
    "            if '* Prec@1' in line: \n",
    "                line = line.split()\n",
    "                results.append(float(line[-1]))\n",
    "    return results"
   ]
  },
  {
   "cell_type": "code",
   "execution_count": 2,
   "metadata": {},
   "outputs": [],
   "source": [
    "shows = {}\n",
    "#shows['vgg11_bn'] = load_log('log_vgg11_bn')\n",
    "#shows['vgg11_half_bn'] = load_log('log_half_vgg11_bn')\n",
    "\n",
    "shows['vgg16_bn'] = load_log('log_vgg16_bn')\n",
    "#shows['vgg13_bn'] = load_log('log_vgg13_bn')\n",
    "#shows['vgg13_half_bn'] = load_log('log_half_vgg13_bn')"
   ]
  },
  {
   "cell_type": "code",
   "execution_count": 3,
   "metadata": {},
   "outputs": [
    {
     "name": "stdout",
     "output_type": "stream",
     "text": [
      "{'vgg16_bn': [13.281, 13.281, 11.328, 9.375, 10.469, 17.695, 15.859, 19.297]}\n"
     ]
    }
   ],
   "source": [
    "print(shows)"
   ]
  },
  {
   "cell_type": "code",
   "execution_count": 4,
   "metadata": {},
   "outputs": [
    {
     "data": {
      "text/plain": [
       "<matplotlib.legend.Legend at 0x209703e0f28>"
      ]
     },
     "execution_count": 4,
     "metadata": {},
     "output_type": "execute_result"
    },
    {
     "data": {
      "image/png": "[encoded data removed]",
      "text/plain": [
       "<Figure size 432x288 with 1 Axes>"
      ]
     },
     "metadata": {
      "needs_background": "light"
     },
     "output_type": "display_data"
    }
   ],
   "source": [
    "for key in sorted(shows.keys()):\n",
    "    epochs = np.arange(1, 1+len(shows[key]))\n",
    "    plt.plot(epochs, shows[key], label='{}:{}'.format(key, np.max(shows[key])))\n",
    "    \n",
    "\n",
    "#plt.legend(shows.keys(), loc='upper left')\n",
    "plt.legend(bbox_to_anchor=(1.05, 1), loc=2, borderaxespad=0.)"
   ]
  },
  {
   "cell_type": "code",
   "execution_count": null,
   "metadata": {},
   "outputs": [],
   "source": []
  },
  {
   "cell_type": "code",
   "execution_count": null,
   "metadata": {},
   "outputs": [],
   "source": []
  }
 ],
 "metadata": {
  "kernelspec": {
   "display_name": "Python 3",
   "language": "python",
   "name": "python3"
  },
  "language_info": {
   "codemirror_mode": {
    "name": "ipython",
    "version": 3
   },
   "file_extension": ".py",
   "mimetype": "text/x-python",
   "name": "python",
   "nbconvert_exporter": "python",
   "pygments_lexer": "ipython3",
   "version": "3.6.7"
  }
 },
 "nbformat": 4,
 "nbformat_minor": 2
}
